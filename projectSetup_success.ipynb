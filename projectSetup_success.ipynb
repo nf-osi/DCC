{
 "cells": [
  {
   "cell_type": "markdown",
   "metadata": {},
   "source": [
    "# Project Setup Script\n",
    "\n",
    "This script creates a Synapse project with the following components:\n",
    "- names project\n",
    "- adds wiki content in markdown\n",
    "- creates folders (default is to create 3 folders, called Analysis, Milestone Reports, Raw Data)\n",
    "- adds NF-OSI Team to project sharing settings\n",
    "- sets up Project Files and Metadata Fileview with NF default schema\n",
    "\n",
    "#### to-do:\n",
    "- [x] set up fileview\n",
    "- [x] add permissions\n",
    "- [ ] figure out how to set admin permissions\n",
    "- [ ] add facets to fileview setting\n",
    "- [ ] add permissions for funding team\n",
    "- [ ] add permissions for contributor\n",
    "- [ ] write second script to add file to NF Portal fileview"
   ]
  },
  {
   "cell_type": "code",
   "execution_count": 1,
   "metadata": {},
   "outputs": [
    {
     "name": "stdout",
     "output_type": "stream",
     "text": [
      "Welcome, Kaitlin Throgmorton!\n",
      "\n"
     ]
    }
   ],
   "source": [
    "import synapseclient\n",
    "from synapseclient import Project, Folder, File, Link, Wiki, Schema, Column, Table, Row, RowSet, as_table_columns, EntityViewSchema, EntityViewType\n",
    "\n",
    "syn = synapseclient.Synapse()\n",
    "syn = synapseclient.login()"
   ]
  },
  {
   "cell_type": "code",
   "execution_count": 2,
   "metadata": {},
   "outputs": [],
   "source": [
    "# name project, and add wiki content; wiki markdown goes in between triple quotes\n",
    "projectName = 'Add Project Name'\n",
    "\n",
    "content = \"\"\"\n",
    "# Project Title\n",
    "\n",
    "### Principal Investigator: \n",
    "### Project Lead / Data Coordinator:\n",
    "### Institution: \n",
    "\n",
    "### Project Description: \n",
    "This is **test** wiki content. \n",
    "\"\"\"\n",
    "project = Project(projectName)\n",
    "project = syn.store(project)\n",
    "\n",
    "wiki = Wiki(owner=project,\n",
    "            title=projectName,\n",
    "            markdown=content)\n",
    "\n",
    "wiki = syn.store(wiki)\n",
    "\n",
    "# name and create folders\n",
    "data_folder1 = Folder('Analysis', parent=project)\n",
    "data_folder1 = syn.store(data_folder1)\n",
    "data_folder2 = Folder('Milestone Reports', parent=project)\n",
    "data_folder2 = syn.store(data_folder2)\n",
    "data_folder3 = Folder('Raw Data', parent=project)\n",
    "data_folder3 = syn.store(data_folder3)\n",
    "\n",
    "\n",
    "# set NF-OSI team permissions; currently sets to can edit & delete, want full admin\n",
    "sharing = syn.setPermissions(entity=project, \n",
    "                             principalId=3378999, \n",
    "                             accessType=['CREATE', 'READ', 'DOWNLOAD', 'UPDATE', 'DELETE'])\n",
    "\n",
    "# add Project Files and Metadata fileview, add NF schema; currently doesn't add facets\n",
    "view = EntityViewSchema(name=\"Project Files and Metadata\",\n",
    "                        columns=[\n",
    "                            Column(name=\"assay\", columnType=\"STRING\", maximumSize=\"57\"),\n",
    "                            Column(name=\"consortium\", columnType=\"STRING\", maximumSize=\"24\"),\n",
    "                            Column(name=\"dataSubtype\", columnType=\"STRING\", maximumSize=\"13\"),\n",
    "                            Column(name=\"dataType\", columnType=\"STRING\", maximumSize=\"30\"),\n",
    "                            Column(name=\"diagnosis\", columnType=\"STRING\", maximumSize=\"39\"),\n",
    "                            Column(name=\"tumorType\", columnType=\"STRING\", maximumSize=\"90\"),\n",
    "                            Column(name=\"fileFormat\", columnType=\"STRING\", maximumSize=\"13\"),\n",
    "                            Column(name=\"fundingAgency\", columnType=\"STRING\", maximumSize=\"12\"),\n",
    "                            Column(name=\"individualID\", columnType=\"STRING\", maximumSize=\"213\"),\n",
    "                            Column(name=\"nf1Genotype\", columnType=\"STRING\", maximumSize=\"8\"),\n",
    "                            Column(name=\"nf2Genotype\", columnType=\"STRING\", maximumSize=\"7\"),\n",
    "                            Column(name=\"species\", columnType=\"STRING\", maximumSize=\"15\"),\n",
    "                            Column(name=\"resourceType\", columnType=\"STRING\", maximumSize=\"50\"),\n",
    "                            Column(name=\"isCellLine\", columnType=\"STRING\", maximumSize=\"50\"),\n",
    "                            Column(name=\"isMultiSpecimen\", columnType=\"STRING\", maximumSize=\"50\"),\n",
    "                            Column(name=\"isMultiIndividual\", columnType=\"STRING\", maximumSize=\"50\"),\n",
    "                            Column(name=\"studyId\", columnType=\"ENTITYID\"),\n",
    "                            Column(name=\"studyName\", columnType=\"LARGETEXT\"),\n",
    "                            Column(name=\"specimenID\", columnType=\"STRING\", maximumSize=\"300\"),\n",
    "                            Column(name=\"sex\", columnType=\"STRING\", maximumSize=\"50\"),\n",
    "                            Column(name=\"age\", columnType=\"STRING\", maximumSize=\"50\"),\n",
    "                            Column(name=\"readPair\", columnType=\"INTEGER\"),\n",
    "                            Column(name=\"reportMilestone\", columnType=\"INTEGER\"),\n",
    "                            Column(name=\"accessType\", columnType=\"STRING\", maximumSize=\"50\"),\n",
    "                            Column(name=\"accessTeam\", columnType=\"USERID\"),\n",
    "                            Column(name=\"cellType\", columnType=\"STRING\", maximumSize=\"300\"),\n",
    "                            Column(name=\"modelOf\", columnType=\"STRING\", maximumSize=\"50\"),\n",
    "                            Column(name=\"compoundName\", columnType=\"STRING\", maximumSize=\"156\"),\n",
    "                            Column(name=\"experimentalCondition\", columnType=\"STRING\", maximumSize=\"58\"),\n",
    "                            Column(name=\"modelSystemName\", columnType=\"STRING\", maximumSize=\"42\"),\n",
    "                            Column(name=\"isXenograft\", columnType=\"STRING\", maximumSize=\"5\"),\n",
    "                            Column(name=\"transplantationType\", columnType=\"STRING\", maximumSize=\"50\")],\n",
    "                        parent=project,\n",
    "                        scopes=project,\n",
    "                        includeEntityTypes=[EntityViewType.FILE],\n",
    "                        add_default_columns=True)\n",
    "view = syn.store(view)"
   ]
  },
  {
   "cell_type": "code",
   "execution_count": 3,
   "metadata": {},
   "outputs": [],
   "source": [
    "# immediately takes you to Synapse project website; uncomment to activate\n",
    "# seeProjectInBrowser = syn.onweb(project)"
   ]
  },
  {
   "cell_type": "markdown",
   "metadata": {},
   "source": [
    "#### Status: \n",
    "THIS ALL WORKS! :)"
   ]
  },
  {
   "cell_type": "markdown",
   "metadata": {},
   "source": [
    "#### docs references:\n",
    "project setup docs: https://python-docs.synapse.org/build/html/index.html#organizing-data-in-a-project\n",
    "\n",
    "wiki docs: https://python-docs.synapse.org/build/html/Wiki.html#synapseclient.wiki.Wiki\n",
    "\n",
    "onweb: https://python-docs.synapse.org/build/html/index.html?highlight=id#synapseclient.Synapse.onweb\n",
    "\n",
    "access: https://python-docs.synapse.org/build/html/Client.html?highlight=accesstype#synapseclient.Synapse.setPermissions\n",
    "\n",
    "views:  https://python-docs.synapse.org/build/html/Views.html\n",
    "\n",
    "column types: https://python-docs.synapse.org/build/html/Table.html#synapseclient.table.Column"
   ]
  },
  {
   "cell_type": "markdown",
   "metadata": {},
   "source": []
  }
 ],
 "metadata": {
  "kernelspec": {
   "display_name": "Python 3",
   "language": "python",
   "name": "python3"
  },
  "language_info": {
   "codemirror_mode": {
    "name": "ipython",
    "version": 3
   },
   "file_extension": ".py",
   "mimetype": "text/x-python",
   "name": "python",
   "nbconvert_exporter": "python",
   "pygments_lexer": "ipython3",
   "version": "3.7.6"
  }
 },
 "nbformat": 4,
 "nbformat_minor": 4
}
